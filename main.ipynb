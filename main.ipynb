{
 "cells": [
  {
   "cell_type": "code",
   "execution_count": null,
   "metadata": {},
   "outputs": [],
   "source": [
    "import cv2\n",
    "from keyboard import is_pressed\n",
    "from face_recognition import face_encodings,compare_faces,face_locations\n",
    "from os import listdir\n",
    "from os.path import isfile,join\n",
    "from pickle import load,dump"
   ]
  },
  {
   "cell_type": "code",
   "execution_count": null,
   "metadata": {},
   "outputs": [],
   "source": [
    "faces_path = r\"faces\"\n",
    "ser_path = r\"data/data.pkl\""
   ]
  },
  {
   "cell_type": "code",
   "execution_count": null,
   "metadata": {},
   "outputs": [],
   "source": [
    "if isfile(ser_path):\n",
    "    print(\"Face encodings found....\")\n",
    "    face_encodings_data = load(ser_path)\n",
    "\n",
    "else:\n",
    "    print(\"Reading face encodings\")\n",
    "    face_encodings_data = []\n",
    "    for face in listdir(faces_path):\n",
    "        print(f\"Reading file : {face}\")\n",
    "        face_encodings_data.extend(face_encodings(cv2.imread(join(faces_path,face))))"
   ]
  },
  {
   "cell_type": "code",
   "execution_count": null,
   "metadata": {},
   "outputs": [],
   "source": [
    "camera = cv2.VideoCapture(0)"
   ]
  },
  {
   "cell_type": "code",
   "execution_count": null,
   "metadata": {},
   "outputs": [],
   "source": [
    "while not is_pressed(\"esc\"):\n",
    "    _,img = camera.read()\n",
    "\n",
    "    current_face_encodings = face_encodings(img)\n",
    "    if len(current_face_encodings)==0:\n",
    "        print(\"No face available\")\n",
    "\n",
    "    for face_data in current_face_encodings:\n",
    "        try:\n",
    "            comparison = compare_faces(face_encodings_data,face_data,tolerance=0.5)\n",
    "            locations = face_locations(img)\n",
    "\n",
    "            for (a,b,c,d) in locations:\n",
    "                cv2.rectangle(img, (d, a), (b, c), color=(250, 0, 250), thickness=2) \n",
    "\n",
    "            print(\"Face detected\",known_face_names[comparison.index(True)])\n",
    "\n",
    "        except:\n",
    "            print(\"Unknown face detected\")\n",
    "\n",
    "    cv2.imshow(\"Frame\",img)\n",
    "    cv2.waitKey(1)"
   ]
  },
  {
   "cell_type": "code",
   "execution_count": null,
   "metadata": {},
   "outputs": [],
   "source": [
    "cv2.destroyAllWindows()"
   ]
  }
 ],
 "metadata": {
  "kernelspec": {
   "display_name": "venv",
   "language": "python",
   "name": "python3"
  },
  "language_info": {
   "name": "python",
   "version": "3.9.7"
  }
 },
 "nbformat": 4,
 "nbformat_minor": 2
}
